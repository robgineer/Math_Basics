{
 "cells": [
  {
   "cell_type": "markdown",
   "metadata": {},
   "source": [
    "# Lineare Unabhängigkeit von Vektoren"
   ]
  },
  {
   "cell_type": "markdown",
   "metadata": {},
   "source": [
    "Eine Linearkombination \n",
    "$\\sum_{i=1}^n a_i v_i = 0$ heißt **triviale Darstellung des Nullvektors** durch $v_1 , . . . , v_n$, wenn $a_i = 0$ für alle $1 <= i <= n$ ist.\n",
    "\n",
    "Falls mindestens ein $a_i != 0$ ist, so ist $\\sum_{i=1}^n a_i v_i = 0$ eine **nicht triviale Darstellung des Nullvektors** durch durch $v_1 , . . . , v_n$.\n",
    "\n",
    "Die Vektoren $v_1 , . . . v_n \\in V$ heißen linear abhängig, falls es eine nicht-triviale Darstellung des Nullvektors durch $v_1 , . . . , v_n$ gibt.\n"
   ]
  },
  {
   "cell_type": "markdown",
   "metadata": {},
   "source": [
    "## Beispiel"
   ]
  },
  {
   "cell_type": "markdown",
   "metadata": {},
   "source": [
    "Behauptung: $v_1, v_2, v_3$ sind linear unabhängig\n",
    "Beweis: Seien $a_1, a_2, a_3 \\in \\mathbb{R}$ so dass \n",
    "\n",
    "\\begin{equation}\n",
    "a_1 \\begin{pmatrix}2 \\\\ 1 \\\\ 2 \\end{pmatrix} + a_2 \\begin{pmatrix}3 \\\\ 1 \\\\ 4 \\end{pmatrix} + a_3 \\begin{pmatrix}2 \\\\ 3 \\\\ 1 \\end{pmatrix} = \\begin{pmatrix}0 \\\\ 0 \\\\ 0 \\end{pmatrix}\n",
    "\\end{equation}\n",
    "\n",
    "Dann ist $\\begin{pmatrix}a_1 \\\\ a_2 \\\\ a_3 \\end{pmatrix}$ die Lösung des linearen Gleichungssystems \n",
    "\\begin{equation}\n",
    "\\begin{pmatrix}1 & 3 & 2 \\\\ 1 & 1 & 3 \\\\ 2 & 4 & 1 \\end{pmatrix} \\begin{pmatrix}x_1 \\\\ x_2 \\\\ x_3 \\end{pmatrix} = \\begin{pmatrix}0 \\\\ 0 \\\\ 0 \\end{pmatrix}\n",
    "\\end{equation}"
   ]
  },
  {
   "cell_type": "markdown",
   "metadata": {},
   "source": [
    "### Vorgehen"
   ]
  },
  {
   "cell_type": "markdown",
   "metadata": {},
   "source": [
    "Überführe Koeffizientenmatrix in Treppennormalform. Resultat darf keine Nullzeilen enthalten --> GLS lösbar. Lösung ist der Nullvektor. \n"
   ]
  },
  {
   "cell_type": "code",
   "execution_count": 1,
   "metadata": {},
   "outputs": [],
   "source": [
    "import numpy as np\n",
    "np.set_printoptions(precision=3)\n",
    "#define elementary operations on matrices\n",
    "\n",
    "# swap rows P_ij\n",
    "def P(i, j, matrix):\n",
    "    matrix_p = np.copy(matrix)\n",
    "    matrix_p[i-1] = matrix[j-1]\n",
    "    matrix_p[j-1] = matrix[i-1]\n",
    "    print(\"---------\")\n",
    "    print(\"P\", i , j)\n",
    "    print(matrix_p)\n",
    "    print(\"---------\")\n",
    "    return matrix_p\n",
    "\n",
    "# add value row j * var to row i (T_ij(var))\n",
    "def T(i, j, var, matrix):\n",
    "    matrix_t = np.copy(matrix)\n",
    "    matrix_t[i-1] = matrix_t[i-1] + matrix[j-1] * var\n",
    "    print(\"---------\")\n",
    "    print(\"T\", i, j, var)\n",
    "    print(matrix_t)\n",
    "    print(\"---------\")\n",
    "    return matrix_t\n",
    "\n",
    "# multiply row i with var (D_i(var))\n",
    "def D(i, var, matrix):\n",
    "    matrix_d = np.copy(matrix)\n",
    "    matrix_d[i-1] = matrix_d[i-1] * var\n",
    "    print(\"---------\")\n",
    "    print(\"D\", i , var)\n",
    "    print(matrix_d)\n",
    "    print(\"---------\")\n",
    "    return matrix_d\n",
    "    \n",
    "    "
   ]
  },
  {
   "cell_type": "code",
   "execution_count": 2,
   "metadata": {},
   "outputs": [
    {
     "name": "stdout",
     "output_type": "stream",
     "text": [
      "[[ 1.  3.  2.]\n",
      " [ 1.  2.  3.]\n",
      " [ 2.  4.  1.]]\n",
      "---------\n",
      "('T', 2, 1, -1)\n",
      "[[ 1.  3.  2.]\n",
      " [ 0. -1.  1.]\n",
      " [ 2.  4.  1.]]\n",
      "---------\n",
      "---------\n",
      "('T', 3, 1, -2)\n",
      "[[ 1.  3.  2.]\n",
      " [ 0. -1.  1.]\n",
      " [ 0. -2. -3.]]\n",
      "---------\n",
      "---------\n",
      "('D', 2, -1)\n",
      "[[ 1.  3.  2.]\n",
      " [-0.  1. -1.]\n",
      " [ 0. -2. -3.]]\n",
      "---------\n",
      "---------\n",
      "('D', 3, -0.5)\n",
      "[[ 1.   3.   2. ]\n",
      " [-0.   1.  -1. ]\n",
      " [-0.   1.   1.5]]\n",
      "---------\n",
      "---------\n",
      "('T', 1, 2, -3)\n",
      "[[ 1.   0.   5. ]\n",
      " [-0.   1.  -1. ]\n",
      " [-0.   1.   1.5]]\n",
      "---------\n",
      "---------\n",
      "('T', 3, 2, -1)\n",
      "[[ 1.   0.   5. ]\n",
      " [-0.   1.  -1. ]\n",
      " [ 0.   0.   2.5]]\n",
      "---------\n",
      "---------\n",
      "('D', 3, 0.4)\n",
      "[[ 1.  0.  5.]\n",
      " [-0.  1. -1.]\n",
      " [ 0.  0.  1.]]\n",
      "---------\n",
      "---------\n",
      "('T', 2, 3, 1)\n",
      "[[ 1.  0.  5.]\n",
      " [ 0.  1.  0.]\n",
      " [ 0.  0.  1.]]\n",
      "---------\n",
      "---------\n",
      "('T', 1, 3, -5)\n",
      "[[ 1.  0.  0.]\n",
      " [ 0.  1.  0.]\n",
      " [ 0.  0.  1.]]\n",
      "---------\n",
      "\n",
      "Resultat\n",
      "[[ 1.  0.  0.]\n",
      " [ 0.  1.  0.]\n",
      " [ 0.  0.  1.]]\n",
      "\n",
      "Cross check with linsolver\n",
      "[ 0.  0.  0.]\n"
     ]
    }
   ],
   "source": [
    "koeff_matrix = np.array([[1, 3, 2], [1, 2, 3], [2,4,1]], dtype='float')\n",
    "print(koeff_matrix)\n",
    "\n",
    "koeff_matrix = T(2,1,-1, koeff_matrix)\n",
    "koeff_matrix = T(3,1,-2, koeff_matrix)\n",
    "koeff_matrix = D(2, -1, koeff_matrix)\n",
    "koeff_matrix = D(3,-0.5, koeff_matrix)\n",
    "koeff_matrix = T(1,2,-3, koeff_matrix)\n",
    "koeff_matrix = T(3,2,-1, koeff_matrix)\n",
    "koeff_matrix = D(3, (1/2.5), koeff_matrix)\n",
    "koeff_matrix = T(2,3,1, koeff_matrix)\n",
    "koeff_matrix = T(1,3,-5, koeff_matrix)\n",
    "\n",
    "print(\"\\nResultat\")\n",
    "print(koeff_matrix)\n",
    "\n",
    "print(\"\\nCross check with linsolver\")\n",
    "koeff_matrix = np.array([[1, 3, 2], [1, 2, 3], [2,4,1]], dtype='float')\n",
    "zeros = np.array([0, 0, 0])\n",
    "x = np.linalg.solve(koeff_matrix, zeros)\n",
    "print(x)"
   ]
  },
  {
   "cell_type": "markdown",
   "metadata": {},
   "source": [
    "Das Resultat ist die Umformung in Treppennormalform ist die Einheitsmatrix. Das GLS ist somit Lösbar da\n",
    "$\\begin{pmatrix}a_1 \\\\ a_2 \\\\ a_3 \\end{pmatrix} * \\begin{pmatrix}1 & 0 & 0 \\\\ 0 & 1 & 0 \\\\ 0 & 0 & 1 \\end{pmatrix} = \\begin{pmatrix}0 \\\\ 0 \\\\ 0 \\end{pmatrix}$ \n"
   ]
  },
  {
   "cell_type": "markdown",
   "metadata": {},
   "source": [
    "## Übung 1"
   ]
  },
  {
   "cell_type": "markdown",
   "metadata": {},
   "source": [
    "Untersuche ob \n",
    "\\begin{equation}\n",
    "\\begin{pmatrix}1 \\\\ 0 \\\\ -1 \\\\ 1 \\end{pmatrix}, \\begin{pmatrix}1 \\\\ -1 \\\\ 1 \\\\ 3 \\end{pmatrix}, \\begin{pmatrix}-2 \\\\ 3 \\\\ 3 \\\\ 0 \\end{pmatrix} \\in \\mathbb{R^4}\n",
    "\\end{equation}\n",
    "linear unabhängig sind."
   ]
  },
  {
   "cell_type": "code",
   "execution_count": 22,
   "metadata": {
    "scrolled": true
   },
   "outputs": [
    {
     "name": "stdout",
     "output_type": "stream",
     "text": [
      "[[ 1.  1. -2.]\n",
      " [ 0. -1.  3.]\n",
      " [-1.  1.  3.]\n",
      " [ 1.  3.  0.]]\n",
      "---------\n",
      "('P', 4, 1)\n",
      "[[ 1.  3.  0.]\n",
      " [ 0. -1.  3.]\n",
      " [-1.  1.  3.]\n",
      " [ 1.  1. -2.]]\n",
      "---------\n",
      "---------\n",
      "('T', 1, 2, 3)\n",
      "[[ 1.  0.  9.]\n",
      " [ 0. -1.  3.]\n",
      " [-1.  1.  3.]\n",
      " [ 1.  1. -2.]]\n",
      "---------\n",
      "---------\n",
      "('T', 3, 1, 1)\n",
      "[[  1.   0.   9.]\n",
      " [  0.  -1.   3.]\n",
      " [  0.   1.  12.]\n",
      " [  1.   1.  -2.]]\n",
      "---------\n",
      "---------\n",
      "('T', 4, 1, -1)\n",
      "[[  1.   0.   9.]\n",
      " [  0.  -1.   3.]\n",
      " [  0.   1.  12.]\n",
      " [  0.   1. -11.]]\n",
      "---------\n",
      "---------\n",
      "('T', 4, 2, 1)\n",
      "[[  1.   0.   9.]\n",
      " [  0.  -1.   3.]\n",
      " [  0.   1.  12.]\n",
      " [  0.   0.  -8.]]\n",
      "---------\n",
      "---------\n",
      "('T', 3, 2, 1)\n",
      "[[  1.   0.   9.]\n",
      " [  0.  -1.   3.]\n",
      " [  0.   0.  15.]\n",
      " [  0.   0.  -8.]]\n",
      "---------\n",
      "---------\n",
      "('D', 2, -1)\n",
      "[[  1.   0.   9.]\n",
      " [ -0.   1.  -3.]\n",
      " [  0.   0.  15.]\n",
      " [  0.   0.  -8.]]\n",
      "---------\n",
      "---------\n",
      "('D', 3, 0.06666666666666667)\n",
      "[[ 1.  0.  9.]\n",
      " [-0.  1. -3.]\n",
      " [ 0.  0.  1.]\n",
      " [ 0.  0. -8.]]\n",
      "---------\n",
      "---------\n",
      "('T', 4, 3, 8)\n",
      "[[ 1.  0.  9.]\n",
      " [-0.  1. -3.]\n",
      " [ 0.  0.  1.]\n",
      " [ 0.  0.  0.]]\n",
      "---------\n",
      "---------\n",
      "('T', 2, 3, 3)\n",
      "[[ 1.  0.  9.]\n",
      " [ 0.  1.  0.]\n",
      " [ 0.  0.  1.]\n",
      " [ 0.  0.  0.]]\n",
      "---------\n",
      "---------\n",
      "('T', 1, 3, -9)\n",
      "[[ 1.  0.  0.]\n",
      " [ 0.  1.  0.]\n",
      " [ 0.  0.  1.]\n",
      " [ 0.  0.  0.]]\n",
      "---------\n",
      "\n",
      "Resultat\n",
      "[[ 1.  0.  0.]\n",
      " [ 0.  1.  0.]\n",
      " [ 0.  0.  1.]\n",
      " [ 0.  0.  0.]]\n"
     ]
    }
   ],
   "source": [
    "koeff_matrix = np.array([[1, 1, -2], [0, -1, 3], [-1, 1, 3], [1, 3, 0]], dtype='float')\n",
    "print(koeff_matrix)\n",
    "\n",
    "\n",
    "koeff_matrix = P(4,1, koeff_matrix)\n",
    "koeff_matrix = T(1,2,3, koeff_matrix)\n",
    "koeff_matrix = T(3,1,1, koeff_matrix)\n",
    "koeff_matrix = T(4,1,-1, koeff_matrix)\n",
    "koeff_matrix = T(4,2,1, koeff_matrix)\n",
    "koeff_matrix = T(3,2,1, koeff_matrix)\n",
    "koeff_matrix = D(2,-1, koeff_matrix)\n",
    "koeff_matrix = D(3,float(1.0/15.0), koeff_matrix)\n",
    "koeff_matrix = T(4,3,8, koeff_matrix)\n",
    "koeff_matrix = T(2,3,3, koeff_matrix)\n",
    "koeff_matrix = T(1,3,-9, koeff_matrix)\n",
    "\n",
    "print(\"\\nResultat\")\n",
    "print(koeff_matrix)"
   ]
  },
  {
   "cell_type": "markdown",
   "metadata": {},
   "source": [
    "Das Resultat zeigt, dass das GLS lösbar ist --> Rang(3). Die Vektoren sind damit linear unabhängig."
   ]
  },
  {
   "cell_type": "markdown",
   "metadata": {},
   "source": [
    "### Übung 2"
   ]
  },
  {
   "cell_type": "markdown",
   "metadata": {},
   "source": [
    "Untersuche ob \n",
    "\\begin{equation}\n",
    "\\begin{pmatrix} 1 & 3 \\\\ 2 & 1 \\end{pmatrix}, \\begin{pmatrix} -2 & -1  \\\\ 1 & 4 \\end{pmatrix}, \\begin{pmatrix}1 & 0 \\\\ 2 & 1\\end{pmatrix} \\in M_{22}(\\mathbb{R})\n",
    "\\end{equation}\n",
    "linear unabhängig sind."
   ]
  },
  {
   "cell_type": "code",
   "execution_count": 31,
   "metadata": {},
   "outputs": [
    {
     "name": "stdout",
     "output_type": "stream",
     "text": [
      "[[ 1. -2.  1.]\n",
      " [ 3. -2.  0.]\n",
      " [ 2.  1.  2.]\n",
      " [ 1.  4.  1.]]\n",
      "---------\n",
      "('T', 2, 1, -3)\n",
      "[[ 1. -2.  1.]\n",
      " [ 0.  4. -3.]\n",
      " [ 2.  1.  2.]\n",
      " [ 1.  4.  1.]]\n",
      "---------\n",
      "---------\n",
      "('T', 3, 1, -2)\n",
      "[[ 1. -2.  1.]\n",
      " [ 0.  4. -3.]\n",
      " [ 0.  5.  0.]\n",
      " [ 1.  4.  1.]]\n",
      "---------\n",
      "---------\n",
      "('T', 4, 1, -1)\n",
      "[[ 1. -2.  1.]\n",
      " [ 0.  4. -3.]\n",
      " [ 0.  5.  0.]\n",
      " [ 0.  6.  0.]]\n",
      "---------\n",
      "---------\n",
      "('P', 4, 2)\n",
      "[[ 1. -2.  1.]\n",
      " [ 0.  6.  0.]\n",
      " [ 0.  5.  0.]\n",
      " [ 0.  4. -3.]]\n",
      "---------\n",
      "---------\n",
      "('D', 2, 0.16666666666666666)\n",
      "[[ 1. -2.  1.]\n",
      " [ 0.  1.  0.]\n",
      " [ 0.  5.  0.]\n",
      " [ 0.  4. -3.]]\n",
      "---------\n",
      "---------\n",
      "('T', 1, 2, 2)\n",
      "[[ 1.  0.  1.]\n",
      " [ 0.  1.  0.]\n",
      " [ 0.  5.  0.]\n",
      " [ 0.  4. -3.]]\n",
      "---------\n"
     ]
    }
   ],
   "source": [
    "koeff_matrix = np.array([[1, -2, 1], [3, -2, 0], [2, 1, 2], [1, 4, 1]], dtype='float')\n",
    "print(koeff_matrix)\n",
    "\n",
    "koeff_matrix = T(2,1,-3, koeff_matrix)\n",
    "koeff_matrix = T(3,1,-2, koeff_matrix)\n",
    "koeff_matrix = T(4,1,-1, koeff_matrix)\n",
    "koeff_matrix = P(4,2, koeff_matrix)\n",
    "koeff_matrix = D(2,(1.0/6.0), koeff_matrix)\n",
    "koeff_matrix = T(1,2,2, koeff_matrix)"
   ]
  },
  {
   "cell_type": "code",
   "execution_count": null,
   "metadata": {},
   "outputs": [],
   "source": [
    "koeff_matrix = T(1,2,3, koeff_matrix)"
   ]
  }
 ],
 "metadata": {
  "kernelspec": {
   "display_name": "Python 2",
   "language": "python",
   "name": "python2"
  },
  "language_info": {
   "codemirror_mode": {
    "name": "ipython",
    "version": 2
   },
   "file_extension": ".py",
   "mimetype": "text/x-python",
   "name": "python",
   "nbconvert_exporter": "python",
   "pygments_lexer": "ipython2",
   "version": "2.7.12"
  }
 },
 "nbformat": 4,
 "nbformat_minor": 2
}
