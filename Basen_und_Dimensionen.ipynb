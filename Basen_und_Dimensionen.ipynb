{
 "cells": [
  {
   "cell_type": "markdown",
   "metadata": {},
   "source": [
    "# Lineare Unabhängigkeit von Vektoren"
   ]
  },
  {
   "cell_type": "markdown",
   "metadata": {},
   "source": [
    "Eine Linearkombination \n",
    "$\\sum_{i=1}^n a_i v_i = 0$ heißt **triviale Darstellung des Nullvektors** durch $v_1 , . . . , v_n$, wenn $a_i = 0$ für alle $1 <= i <= n$ ist.\n",
    "\n",
    "Falls mindestens ein $a_i != 0$ ist, so ist $\\sum_{i=1}^n a_i v_i = 0$ eine **nicht triviale Darstellung des Nullvektors** durch durch $v_1 , . . . , v_n$.\n",
    "\n",
    "Die Vektoren $v_1 , . . . v_n \\in V$ heißen linear abhängig, falls es eine nicht-triviale Darstellung des Nullvektors durch $v_1 , . . . , v_n$ gibt.\n"
   ]
  },
  {
   "cell_type": "markdown",
   "metadata": {},
   "source": [
    "## Beispiel"
   ]
  },
  {
   "cell_type": "markdown",
   "metadata": {},
   "source": [
    "Behauptung: $v_1, v_2, v_3$ sind linear unabhängig\n",
    "Beweis: Seien $a_1, a_2, a_3 \\in \\mathbb{R}$ so dass \n",
    "\n",
    "\\begin{equation}\n",
    "a_1 \\begin{pmatrix}2 \\\\ 1 \\\\ 2 \\end{pmatrix} + a_2 \\begin{pmatrix}3 \\\\ 1 \\\\ 4 \\end{pmatrix} + a_3 \\begin{pmatrix}2 \\\\ 3 \\\\ 1 \\end{pmatrix} = \\begin{pmatrix}0 \\\\ 0 \\\\ 0 \\end{pmatrix}\n",
    "\\end{equation}\n",
    "\n",
    "Dann ist $\\begin{pmatrix}a_1 \\\\ a_2 \\\\ a_3 \\end{pmatrix}$ die Lösung des linearen Gleichungssystems \n",
    "\\begin{equation}\n",
    "\\begin{pmatrix}1 & 3 & 2 \\\\ 1 & 1 & 3 \\\\ 2 & 4 & 1 \\end{pmatrix} \\begin{pmatrix}x_1 \\\\ x_2 \\\\ x_3 \\end{pmatrix} = \\begin{pmatrix}0 \\\\ 0 \\\\ 0 \\end{pmatrix}\n",
    "\\end{equation}"
   ]
  },
  {
   "cell_type": "markdown",
   "metadata": {},
   "source": [
    "### Vorgehen"
   ]
  },
  {
   "cell_type": "markdown",
   "metadata": {},
   "source": [
    "Überführe Koeffizientenmatrix in Treppennormalform. Resultat darf keine Nullzeilen enthalten --> GLS lösbar. Lösung ist der Nullvektor. \n"
   ]
  },
  {
   "cell_type": "code",
   "execution_count": 2,
   "metadata": {},
   "outputs": [],
   "source": [
    "import numpy as np\n",
    "np.set_printoptions(precision=3)\n",
    "#define elementary operations on matrices\n",
    "\n",
    "# swap rows P_ij\n",
    "def P(i, j, matrix):\n",
    "    matrix_p = np.copy(matrix)\n",
    "    matrix_p[i-1] = matrix[j-1]\n",
    "    matrix_p[j-1] = matrix[i-1]\n",
    "    print(\"---------\")\n",
    "    print(\"P\", i , j)\n",
    "    print(matrix_p)\n",
    "    print(\"---------\")\n",
    "    return matrix_p\n",
    "\n",
    "# add value row j * var to row i (T_ij(var))\n",
    "def T(i, j, var, matrix):\n",
    "    matrix_t = np.copy(matrix)\n",
    "    matrix_t[i-1] = matrix_t[i-1] + matrix[j-1] * var\n",
    "    print(\"---------\")\n",
    "    print(\"T\", i, j, var)\n",
    "    print(matrix_t)\n",
    "    print(\"---------\")\n",
    "    return matrix_t\n",
    "\n",
    "# multiply row i with var (D_i(var))\n",
    "def D(i, var, matrix):\n",
    "    matrix_d = np.copy(matrix)\n",
    "    matrix_d[i-1] = matrix_d[i-1] * var\n",
    "    print(\"---------\")\n",
    "    print(\"D\", i , var)\n",
    "    print(matrix_d)\n",
    "    print(\"---------\")\n",
    "    return matrix_d\n",
    "    \n",
    "    "
   ]
  },
  {
   "cell_type": "code",
   "execution_count": 3,
   "metadata": {},
   "outputs": [
    {
     "name": "stdout",
     "output_type": "stream",
     "text": [
      "[[ 1.  3.  2.]\n",
      " [ 1.  2.  3.]\n",
      " [ 2.  4.  1.]]\n",
      "---------\n",
      "('T', 2, 1, -1)\n",
      "[[ 1.  3.  2.]\n",
      " [ 0. -1.  1.]\n",
      " [ 2.  4.  1.]]\n",
      "---------\n",
      "---------\n",
      "('T', 3, 1, -2)\n",
      "[[ 1.  3.  2.]\n",
      " [ 0. -1.  1.]\n",
      " [ 0. -2. -3.]]\n",
      "---------\n",
      "---------\n",
      "('D', 2, -1)\n",
      "[[ 1.  3.  2.]\n",
      " [-0.  1. -1.]\n",
      " [ 0. -2. -3.]]\n",
      "---------\n",
      "---------\n",
      "('D', 3, -0.5)\n",
      "[[ 1.   3.   2. ]\n",
      " [-0.   1.  -1. ]\n",
      " [-0.   1.   1.5]]\n",
      "---------\n",
      "---------\n",
      "('T', 1, 2, -3)\n",
      "[[ 1.   0.   5. ]\n",
      " [-0.   1.  -1. ]\n",
      " [-0.   1.   1.5]]\n",
      "---------\n",
      "---------\n",
      "('T', 3, 2, -1)\n",
      "[[ 1.   0.   5. ]\n",
      " [-0.   1.  -1. ]\n",
      " [ 0.   0.   2.5]]\n",
      "---------\n",
      "---------\n",
      "('D', 3, 0.4)\n",
      "[[ 1.  0.  5.]\n",
      " [-0.  1. -1.]\n",
      " [ 0.  0.  1.]]\n",
      "---------\n",
      "---------\n",
      "('T', 2, 3, 1)\n",
      "[[ 1.  0.  5.]\n",
      " [ 0.  1.  0.]\n",
      " [ 0.  0.  1.]]\n",
      "---------\n",
      "---------\n",
      "('T', 1, 3, -5)\n",
      "[[ 1.  0.  0.]\n",
      " [ 0.  1.  0.]\n",
      " [ 0.  0.  1.]]\n",
      "---------\n",
      "\n",
      "Resultat\n",
      "[[ 1.  0.  0.]\n",
      " [ 0.  1.  0.]\n",
      " [ 0.  0.  1.]]\n",
      "\n",
      "Cross check with linsolver\n",
      "[ 0.  0.  0.]\n"
     ]
    }
   ],
   "source": [
    "koeff_matrix = np.array([[1, 3, 2], [1, 2, 3], [2,4,1]], dtype='float')\n",
    "print(koeff_matrix)\n",
    "\n",
    "koeff_matrix = T(2,1,-1, koeff_matrix)\n",
    "koeff_matrix = T(3,1,-2, koeff_matrix)\n",
    "koeff_matrix = D(2, -1, koeff_matrix)\n",
    "koeff_matrix = D(3,-0.5, koeff_matrix)\n",
    "koeff_matrix = T(1,2,-3, koeff_matrix)\n",
    "koeff_matrix = T(3,2,-1, koeff_matrix)\n",
    "koeff_matrix = D(3, (1/2.5), koeff_matrix)\n",
    "koeff_matrix = T(2,3,1, koeff_matrix)\n",
    "koeff_matrix = T(1,3,-5, koeff_matrix)\n",
    "\n",
    "print(\"\\nResultat\")\n",
    "print(koeff_matrix)\n",
    "\n",
    "print(\"\\nCross check with linsolver\")\n",
    "koeff_matrix = np.array([[1, 3, 2], [1, 2, 3], [2,4,1]], dtype='float')\n",
    "zeros = np.array([0, 0, 0])\n",
    "x = np.linalg.solve(koeff_matrix, zeros)\n",
    "print(x)"
   ]
  },
  {
   "cell_type": "markdown",
   "metadata": {},
   "source": [
    "Das Resultat ist die Umformung in Treppennormalform ist die Einheitsmatrix. Das GLS ist somit Lösbar da\n",
    "$\\begin{pmatrix}a_1 \\\\ a_2 \\\\ a_3 \\end{pmatrix} * \\begin{pmatrix}1 & 0 & 0 \\\\ 0 & 1 & 0 \\\\ 0 & 0 & 1 \\end{pmatrix} = \\begin{pmatrix}0 \\\\ 0 \\\\ 0 \\end{pmatrix}$ \n"
   ]
  },
  {
   "cell_type": "markdown",
   "metadata": {},
   "source": [
    "## Übung 1"
   ]
  },
  {
   "cell_type": "markdown",
   "metadata": {},
   "source": [
    "Untersuche ob \n",
    "\\begin{equation}\n",
    "\\begin{pmatrix}1 \\\\ 0 \\\\ -1 \\\\ 1 \\end{pmatrix}, \\begin{pmatrix}1 \\\\ -1 \\\\ 1 \\\\ 3 \\end{pmatrix}, \\begin{pmatrix}-2 \\\\ 3 \\\\ 3 \\\\ 0 \\end{pmatrix} \\in \\mathbb{R^4}\n",
    "\\end{equation}\n",
    "linear unabhängig sind."
   ]
  },
  {
   "cell_type": "code",
   "execution_count": 13,
   "metadata": {},
   "outputs": [
    {
     "name": "stdout",
     "output_type": "stream",
     "text": [
      "[[ 1.  1. -2.]\n",
      " [ 0. -1.  3.]\n",
      " [-1.  1.  3.]\n",
      " [ 1.  3.  0.]]\n",
      "---------\n",
      "('P', 4, 1)\n",
      "[[ 1.  3.  0.]\n",
      " [ 0. -1.  3.]\n",
      " [-1.  1.  3.]\n",
      " [ 1.  1. -2.]]\n",
      "---------\n",
      "---------\n",
      "('T', 1, 2, 3)\n",
      "[[ 1.  0.  9.]\n",
      " [ 0. -1.  3.]\n",
      " [-1.  1.  3.]\n",
      " [ 1.  1. -2.]]\n",
      "---------\n",
      "---------\n",
      "('T', 2, 1, 1)\n",
      "[[  1.   0.   9.]\n",
      " [  1.  -1.  12.]\n",
      " [ -1.   1.   3.]\n",
      " [  1.   1.  -2.]]\n",
      "---------\n",
      "---------\n",
      "('T', 4, 1, -1)\n",
      "[[  1.   0.   9.]\n",
      " [  1.  -1.  12.]\n",
      " [ -1.   1.   3.]\n",
      " [  0.   1. -11.]]\n",
      "---------\n",
      "\n",
      "Resultat\n",
      "[[  1.   0.   9.]\n",
      " [  1.  -1.  12.]\n",
      " [ -1.   1.   3.]\n",
      " [  0.   1. -11.]]\n"
     ]
    }
   ],
   "source": [
    "koeff_matrix = np.array([[1, 1, -2], [0, -1, 3], [-1, 1, 3], [1, 3, 0]], dtype='float')\n",
    "print(koeff_matrix)\n",
    "\n",
    "\n",
    "koeff_matrix = P(4,1, koeff_matrix)\n",
    "koeff_matrix = T(1,2,3, koeff_matrix)\n",
    "koeff_matrix = T(2,1,1, koeff_matrix)\n",
    "\n",
    "koeff_matrix = T(4,1,-1, koeff_matrix)\n",
    "\n",
    "\n",
    "print(\"\\nResultat\")\n",
    "print(koeff_matrix)"
   ]
  },
  {
   "cell_type": "code",
   "execution_count": 5,
   "metadata": {},
   "outputs": [
    {
     "name": "stdout",
     "output_type": "stream",
     "text": [
      "[[ 1.  1. -2.]\n",
      " [ 0. -1.  3.]\n",
      " [-1.  1.  3.]\n",
      " [ 1.  3.  0.]]\n"
     ]
    },
    {
     "ename": "LinAlgError",
     "evalue": "Last 2 dimensions of the array must be square",
     "output_type": "error",
     "traceback": [
      "\u001b[0;31m---------------------------------------------------------------------------\u001b[0m",
      "\u001b[0;31mLinAlgError\u001b[0m                               Traceback (most recent call last)",
      "\u001b[0;32m<ipython-input-5-0f46117c1687>\u001b[0m in \u001b[0;36m<module>\u001b[0;34m()\u001b[0m\n\u001b[1;32m      3\u001b[0m \u001b[0mzeros\u001b[0m \u001b[0;34m=\u001b[0m \u001b[0mnp\u001b[0m\u001b[0;34m.\u001b[0m\u001b[0marray\u001b[0m\u001b[0;34m(\u001b[0m\u001b[0;34m[\u001b[0m\u001b[0;34m[\u001b[0m\u001b[0;36m0\u001b[0m\u001b[0;34m,\u001b[0m \u001b[0;36m0\u001b[0m\u001b[0;34m,\u001b[0m \u001b[0;36m0\u001b[0m\u001b[0;34m]\u001b[0m\u001b[0;34m,\u001b[0m \u001b[0;34m[\u001b[0m\u001b[0;36m0\u001b[0m\u001b[0;34m,\u001b[0m \u001b[0;36m0\u001b[0m\u001b[0;34m,\u001b[0m \u001b[0;36m0\u001b[0m\u001b[0;34m]\u001b[0m\u001b[0;34m,\u001b[0m \u001b[0;34m[\u001b[0m\u001b[0;36m0\u001b[0m\u001b[0;34m,\u001b[0m \u001b[0;36m0\u001b[0m\u001b[0;34m,\u001b[0m \u001b[0;36m0\u001b[0m\u001b[0;34m]\u001b[0m\u001b[0;34m,\u001b[0m \u001b[0;34m[\u001b[0m\u001b[0;36m0\u001b[0m\u001b[0;34m,\u001b[0m \u001b[0;36m0\u001b[0m\u001b[0;34m,\u001b[0m \u001b[0;36m0\u001b[0m\u001b[0;34m]\u001b[0m\u001b[0;34m]\u001b[0m\u001b[0;34m,\u001b[0m \u001b[0mdtype\u001b[0m\u001b[0;34m=\u001b[0m\u001b[0;34m'float'\u001b[0m\u001b[0;34m)\u001b[0m\u001b[0;34m\u001b[0m\u001b[0m\n\u001b[1;32m      4\u001b[0m \u001b[0mzeros\u001b[0m\u001b[0;34m\u001b[0m\u001b[0m\n\u001b[0;32m----> 5\u001b[0;31m \u001b[0mx\u001b[0m \u001b[0;34m=\u001b[0m \u001b[0mnp\u001b[0m\u001b[0;34m.\u001b[0m\u001b[0mlinalg\u001b[0m\u001b[0;34m.\u001b[0m\u001b[0msolve\u001b[0m\u001b[0;34m(\u001b[0m\u001b[0mkoeff_matrix\u001b[0m\u001b[0;34m,\u001b[0m \u001b[0mzeros\u001b[0m\u001b[0;34m)\u001b[0m\u001b[0;34m\u001b[0m\u001b[0m\n\u001b[0m\u001b[1;32m      6\u001b[0m \u001b[0;32mprint\u001b[0m\u001b[0;34m(\u001b[0m\u001b[0mx\u001b[0m\u001b[0;34m)\u001b[0m\u001b[0;34m\u001b[0m\u001b[0m\n",
      "\u001b[0;32m/usr/lib/python2.7/dist-packages/numpy/linalg/linalg.pyc\u001b[0m in \u001b[0;36msolve\u001b[0;34m(a, b)\u001b[0m\n\u001b[1;32m    356\u001b[0m     \u001b[0ma\u001b[0m\u001b[0;34m,\u001b[0m \u001b[0m_\u001b[0m \u001b[0;34m=\u001b[0m \u001b[0m_makearray\u001b[0m\u001b[0;34m(\u001b[0m\u001b[0ma\u001b[0m\u001b[0;34m)\u001b[0m\u001b[0;34m\u001b[0m\u001b[0m\n\u001b[1;32m    357\u001b[0m     \u001b[0m_assertRankAtLeast2\u001b[0m\u001b[0;34m(\u001b[0m\u001b[0ma\u001b[0m\u001b[0;34m)\u001b[0m\u001b[0;34m\u001b[0m\u001b[0m\n\u001b[0;32m--> 358\u001b[0;31m     \u001b[0m_assertNdSquareness\u001b[0m\u001b[0;34m(\u001b[0m\u001b[0ma\u001b[0m\u001b[0;34m)\u001b[0m\u001b[0;34m\u001b[0m\u001b[0m\n\u001b[0m\u001b[1;32m    359\u001b[0m     \u001b[0mb\u001b[0m\u001b[0;34m,\u001b[0m \u001b[0mwrap\u001b[0m \u001b[0;34m=\u001b[0m \u001b[0m_makearray\u001b[0m\u001b[0;34m(\u001b[0m\u001b[0mb\u001b[0m\u001b[0;34m)\u001b[0m\u001b[0;34m\u001b[0m\u001b[0m\n\u001b[1;32m    360\u001b[0m     \u001b[0mt\u001b[0m\u001b[0;34m,\u001b[0m \u001b[0mresult_t\u001b[0m \u001b[0;34m=\u001b[0m \u001b[0m_commonType\u001b[0m\u001b[0;34m(\u001b[0m\u001b[0ma\u001b[0m\u001b[0;34m,\u001b[0m \u001b[0mb\u001b[0m\u001b[0;34m)\u001b[0m\u001b[0;34m\u001b[0m\u001b[0m\n",
      "\u001b[0;32m/usr/lib/python2.7/dist-packages/numpy/linalg/linalg.pyc\u001b[0m in \u001b[0;36m_assertNdSquareness\u001b[0;34m(*arrays)\u001b[0m\n\u001b[1;32m    210\u001b[0m     \u001b[0;32mfor\u001b[0m \u001b[0ma\u001b[0m \u001b[0;32min\u001b[0m \u001b[0marrays\u001b[0m\u001b[0;34m:\u001b[0m\u001b[0;34m\u001b[0m\u001b[0m\n\u001b[1;32m    211\u001b[0m         \u001b[0;32mif\u001b[0m \u001b[0mmax\u001b[0m\u001b[0;34m(\u001b[0m\u001b[0ma\u001b[0m\u001b[0;34m.\u001b[0m\u001b[0mshape\u001b[0m\u001b[0;34m[\u001b[0m\u001b[0;34m-\u001b[0m\u001b[0;36m2\u001b[0m\u001b[0;34m:\u001b[0m\u001b[0;34m]\u001b[0m\u001b[0;34m)\u001b[0m \u001b[0;34m!=\u001b[0m \u001b[0mmin\u001b[0m\u001b[0;34m(\u001b[0m\u001b[0ma\u001b[0m\u001b[0;34m.\u001b[0m\u001b[0mshape\u001b[0m\u001b[0;34m[\u001b[0m\u001b[0;34m-\u001b[0m\u001b[0;36m2\u001b[0m\u001b[0;34m:\u001b[0m\u001b[0;34m]\u001b[0m\u001b[0;34m)\u001b[0m\u001b[0;34m:\u001b[0m\u001b[0;34m\u001b[0m\u001b[0m\n\u001b[0;32m--> 212\u001b[0;31m             \u001b[0;32mraise\u001b[0m \u001b[0mLinAlgError\u001b[0m\u001b[0;34m(\u001b[0m\u001b[0;34m'Last 2 dimensions of the array must be square'\u001b[0m\u001b[0;34m)\u001b[0m\u001b[0;34m\u001b[0m\u001b[0m\n\u001b[0m\u001b[1;32m    213\u001b[0m \u001b[0;34m\u001b[0m\u001b[0m\n\u001b[1;32m    214\u001b[0m \u001b[0;32mdef\u001b[0m \u001b[0m_assertFinite\u001b[0m\u001b[0;34m(\u001b[0m\u001b[0;34m*\u001b[0m\u001b[0marrays\u001b[0m\u001b[0;34m)\u001b[0m\u001b[0;34m:\u001b[0m\u001b[0;34m\u001b[0m\u001b[0m\n",
      "\u001b[0;31mLinAlgError\u001b[0m: Last 2 dimensions of the array must be square"
     ]
    }
   ],
   "source": []
  },
  {
   "cell_type": "code",
   "execution_count": null,
   "metadata": {},
   "outputs": [],
   "source": [
    "a = np.array([[3,1], [1,2]])\n",
    "b = np.array([9,8])\n",
    "x = np.linalg.solve(a, b)\n",
    "x"
   ]
  },
  {
   "cell_type": "code",
   "execution_count": null,
   "metadata": {},
   "outputs": [],
   "source": []
  }
 ],
 "metadata": {
  "kernelspec": {
   "display_name": "Python 2",
   "language": "python",
   "name": "python2"
  },
  "language_info": {
   "codemirror_mode": {
    "name": "ipython",
    "version": 2
   },
   "file_extension": ".py",
   "mimetype": "text/x-python",
   "name": "python",
   "nbconvert_exporter": "python",
   "pygments_lexer": "ipython2",
   "version": "2.7.12"
  }
 },
 "nbformat": 4,
 "nbformat_minor": 2
}
