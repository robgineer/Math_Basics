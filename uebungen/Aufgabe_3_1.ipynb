{
 "cells": [
  {
   "cell_type": "markdown",
   "metadata": {},
   "source": [
    "# Aufgabenstellung "
   ]
  },
  {
   "cell_type": "markdown",
   "metadata": {},
   "source": [
    "Die Teilmenge $U \\subset \\mathbb{R}^4$ sei gegeben durch\n",
    "\\begin{equation}\n",
    "U = \\left \\{ v | v = \\begin{pmatrix} v_1 \\\\ v_2 \\\\ v_3 \\\\ v_4 \\end{pmatrix} \\text{ und } v_1 − v_2 + v_3 = 0 \\text{ und } v_2 + 2v_3 − v_4 = 0 \\right \\}\n",
    "\\end{equation}\n",
    "<br>\n",
    "1. Zeigen Sie, dass $U$ ein Unterraum von $\\mathbb{R}^4$ ist.\n",
    "2. Sie eine Basis von $U$, und berechnen Sie die Dimension von $U$.\n",
    "3. Ergänzen Sie die von Ihnen gefundene Basis von $U$ zu einer Basis von $\\mathbb{R}^4$."
   ]
  },
  {
   "cell_type": "markdown",
   "metadata": {},
   "source": [
    "# 1. Zeigen Sie, dass $U$ ein Unterraum von $\\mathbb{R}^4$ ist."
   ]
  },
  {
   "cell_type": "markdown",
   "metadata": {},
   "source": [
    "## Notwendige Definitionen"
   ]
  },
  {
   "cell_type": "markdown",
   "metadata": {},
   "source": [
    "### Unterraumkriterium"
   ]
  },
  {
   "cell_type": "markdown",
   "metadata": {},
   "source": [
    "Sei $U$ eine Teilmenge eines Vektorraums $V$ über $\\mathbb{K}$. Folgende Aussagen sind äquivalent:\n",
    "1. $U$ ist ein Unterraum von $V$ .\n",
    "2. Es gelten folgende Regeln:<br>\n",
    "    2.1 Das Nullelement aus $V$ liegt in $U$, und<br>\n",
    "    2.2 für alle $u_1$ , $u_2 \\in U$ gilt $u_1 + u_2 \\in U$, und <br>\n",
    "    2.3 für alle $a \\in \\mathbb{K}$ und alle $u \\in U$ gilt $au \\in U$ ."
   ]
  },
  {
   "cell_type": "markdown",
   "metadata": {},
   "source": [
    "Seien $x = \\begin{pmatrix} x_1 \\\\ x_2 \\\\ x_3 \\\\ x_4 \\end{pmatrix}$ und $y = \\begin{pmatrix} y_1 \\\\ y_2 \\\\ y_3 \\\\ y_4 \\end{pmatrix} \\in U$, so gilt"
   ]
  },
  {
   "cell_type": "markdown",
   "metadata": {},
   "source": [
    "## Unterelement aus $V$ liegt in $U$\n",
    "\n",
    "Falls $x, y = \\{0\\}$ so ist $x + y = \\{0\\}$\n",
    "\\begin{equation}\n",
    "\\begin{pmatrix} 0 \\\\ 0 \\\\ 0 \\\\ 0 \\end{pmatrix}  + \\begin{pmatrix} 0 \\\\ 0 \\\\ 0 \\\\ 0 \\end{pmatrix} = \\begin{pmatrix} 0 \\\\ 0 \\\\ 0 \\\\ 0 \\end{pmatrix}\n",
    "\\end{equation}\n",
    "<br>\n",
    "<br>\n",
    "Da $\\mathbb{R}^4$ einen Körper definiert so gilt für ein beliebiges Element $x \\in V \\neq \\{0\\}$: <br>\n",
    "<br>\n",
    "\\begin{equation}\n",
    "\\begin{pmatrix} 0 \\\\ 0 \\\\ 0 \\\\ 0 \\end{pmatrix} * \\begin{pmatrix} x_1 \\\\ x_2 \\\\ x_3 \\\\ x_4 \\end{pmatrix} = \\begin{pmatrix} x_1 \\\\ x_2 \\\\ x_3 \\\\ x_4 \\end{pmatrix} * \\begin{pmatrix} 0 \\\\ 0 \\\\ 0 \\\\ 0 \\end{pmatrix} = \\begin{pmatrix} 0 \\\\ 0 \\\\ 0 \\\\ 0 \\end{pmatrix} \n",
    "\\end{equation}\n",
    "<br>\n",
    "und\n",
    "<br>\n",
    "\\begin{equation}\n",
    "\\begin{pmatrix} 0 \\\\ 0 \\\\ 0 \\\\ 0 \\end{pmatrix} + \\begin{pmatrix} x_1 \\\\ x_2 \\\\ x_3 \\\\ x_4 \\end{pmatrix} = \\begin{pmatrix} x_1 \\\\ x_2 \\\\ x_3 \\\\ x_4 \\end{pmatrix} + \\begin{pmatrix} 0 \\\\ 0 \\\\ 0 \\\\ 0 \\end{pmatrix} = \\begin{pmatrix} x_1 \\\\ x_2 \\\\ x_3 \\\\ x_4 \\end{pmatrix}\n",
    "\\end{equation}\n"
   ]
  },
  {
   "cell_type": "markdown",
   "metadata": {},
   "source": [
    "## Für alle $u_1$ , $u_2 \\in U$ gilt $u_1 + u_2 \\in U$\n",
    "\n",
    "\\begin{equation}\n",
    " \\begin{pmatrix} x_1 \\\\ x_2 \\\\ x_3 \\\\ x_4 \\end{pmatrix} + \\begin{pmatrix} y_1 \\\\ y_2 \\\\ y_3 \\\\ y_4 \\end{pmatrix} = \\begin{pmatrix} x_1 + y_1  \\\\ x_2 + y_2 \\\\ x_3 + y_4 \\\\ x_3 + y_4 \\end{pmatrix}\n",
    "\\end{equation}\n",
    "da, falls <br>\n",
    "\n",
    "\\begin{equation}\n",
    "x_1 − x_2 + x_3 = 0 \\\\ \n",
    "x_2 + 2x_3 − x_4 = 0u\n",
    "\\end{equation}\n",
    "und \n",
    "\\begin{equation}\n",
    "y_1 − y_2 + y_3 = 0 \\\\ \n",
    "y_2 + 2y_3 − y_4 = 0\n",
    "\\end{equation}\n",
    "so ist auch <br>\n",
    "\n",
    "$(x_1 + y_1) - (x_2 + y_2) + (x_3 + y_3) = 0$  und<br>\n",
    "$(x_2 + y_2) + (2x_3 + 2y_3) - (x_4 + y_4) = 0$ <br>\n"
   ]
  },
  {
   "cell_type": "markdown",
   "metadata": {},
   "source": [
    "## Für alle $a \\in \\mathbb{K}$ und alle $u \\in U$ gilt $au \\in U$\n",
    "\n",
    "\n",
    "sei $a$ beliebiges Element \\in \\mathbb{K} so ist\n",
    "\\begin{equation}\n",
    "a * \\begin{pmatrix} x_1 \\\\ x_2 \\\\ x_3 \\\\ x_4 \\end{pmatrix} =\n",
    "\\begin{pmatrix} a* x_1 \\\\ a * x_2 \\\\ a * x_3  \\\\ a * x_4 \\end{pmatrix}\n",
    "\\end{equation}\n",
    "<br>\n",
    "und es ist\n",
    "<br>\n",
    "\\begin{equation}\n",
    "ax_1 − ax_2 + ax_3 = 0\n",
    "\\end{equation}\n",
    "\\begin{equation} \n",
    "ax_2 + 2ax_3 − ax_4 = 0\n",
    "\\end{equation}"
   ]
  }
 ],
 "metadata": {
  "kernelspec": {
   "display_name": "Python 2",
   "language": "python",
   "name": "python2"
  },
  "language_info": {
   "codemirror_mode": {
    "name": "ipython",
    "version": 2
   },
   "file_extension": ".py",
   "mimetype": "text/x-python",
   "name": "python",
   "nbconvert_exporter": "python",
   "pygments_lexer": "ipython2",
   "version": "2.7.12"
  }
 },
 "nbformat": 4,
 "nbformat_minor": 2
}
