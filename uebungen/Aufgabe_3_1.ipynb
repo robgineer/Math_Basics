{
 "cells": [
  {
   "cell_type": "markdown",
   "metadata": {},
   "source": [
    "# Aufgabenstellung "
   ]
  },
  {
   "cell_type": "markdown",
   "metadata": {},
   "source": [
    "Die Teilmenge $U \\subset \\mathbb{R}^4$ sei gegeben durch\n",
    "\\begin{equation}\n",
    "U = \\left \\{ v | v = \\begin{pmatrix} v_1 \\\\ v_2 \\\\ v_3 \\\\ v_4 \\end{pmatrix} \\text{ und } v_1 − v_2 + v_3 = 0 \\text{ und } v_2 + 2v_3 − v_4 = 0 \\right \\}\n",
    "\\end{equation}\n",
    "<br>\n",
    "1. Zeigen Sie, dass $U$ ein Unterraum von $\\mathbb{R}^4$ ist.\n",
    "2. Bestimmen Sie eine Basis von $U$, und berechnen Sie die Dimension von $U$.\n",
    "3. Ergänzen Sie die von Ihnen gefundene Basis von $U$ zu einer Basis von $\\mathbb{R}^4$."
   ]
  },
  {
   "cell_type": "markdown",
   "metadata": {},
   "source": [
    "# Zeigen Sie, dass $U$ ein Unterraum von $\\mathbb{R}^4$ ist."
   ]
  },
  {
   "cell_type": "markdown",
   "metadata": {},
   "source": [
    "## Notwendige Definitionen"
   ]
  },
  {
   "cell_type": "markdown",
   "metadata": {},
   "source": [
    "### Unterraumkriterium"
   ]
  },
  {
   "cell_type": "markdown",
   "metadata": {},
   "source": [
    "Sei $U$ eine Teilmenge eines Vektorraums $V$ über $\\mathbb{K}$. Folgende Aussagen sind äquivalent:\n",
    "1. $U$ ist ein Unterraum von $V$ .\n",
    "2. Es gelten folgende Regeln:<br>\n",
    "    2.1 Das Nullelement aus $V$ liegt in $U$, und<br>\n",
    "    2.2 für alle $u_1$ , $u_2 \\in U$ gilt $u_1 + u_2 \\in U$, und <br>\n",
    "    2.3 für alle $a \\in \\mathbb{K}$ und alle $u \\in U$ gilt $au \\in U$ ."
   ]
  },
  {
   "cell_type": "markdown",
   "metadata": {},
   "source": [
    "Seien $x = \\begin{pmatrix} x_1 \\\\ x_2 \\\\ x_3 \\\\ x_4 \\end{pmatrix}$ und $y = \\begin{pmatrix} y_1 \\\\ y_2 \\\\ y_3 \\\\ y_4 \\end{pmatrix} \\in U$, so gilt"
   ]
  },
  {
   "cell_type": "markdown",
   "metadata": {},
   "source": [
    "## Unterelement aus $V$ liegt in $U$\n",
    "\n",
    "Falls $x, y = \\{0\\}$ so ist $x + y = \\{0\\}$\n",
    "\\begin{equation}\n",
    "\\begin{pmatrix} 0 \\\\ 0 \\\\ 0 \\\\ 0 \\end{pmatrix}  + \\begin{pmatrix} 0 \\\\ 0 \\\\ 0 \\\\ 0 \\end{pmatrix} = \\begin{pmatrix} 0 \\\\ 0 \\\\ 0 \\\\ 0 \\end{pmatrix}\n",
    "\\end{equation}\n",
    "<br>\n",
    "<br>\n",
    "Da $\\mathbb{R}^4$ einen Körper definiert so gilt für ein beliebiges Element $x \\in V \\neq \\{0\\}$: <br>\n",
    "<br>\n",
    "\\begin{equation}\n",
    "\\begin{pmatrix} 0 \\\\ 0 \\\\ 0 \\\\ 0 \\end{pmatrix} * \\begin{pmatrix} x_1 \\\\ x_2 \\\\ x_3 \\\\ x_4 \\end{pmatrix} = \\begin{pmatrix} x_1 \\\\ x_2 \\\\ x_3 \\\\ x_4 \\end{pmatrix} * \\begin{pmatrix} 0 \\\\ 0 \\\\ 0 \\\\ 0 \\end{pmatrix} = \\begin{pmatrix} 0 \\\\ 0 \\\\ 0 \\\\ 0 \\end{pmatrix} \n",
    "\\end{equation}\n",
    "<br>\n",
    "und\n",
    "<br>\n",
    "\\begin{equation}\n",
    "\\begin{pmatrix} 0 \\\\ 0 \\\\ 0 \\\\ 0 \\end{pmatrix} + \\begin{pmatrix} x_1 \\\\ x_2 \\\\ x_3 \\\\ x_4 \\end{pmatrix} = \\begin{pmatrix} x_1 \\\\ x_2 \\\\ x_3 \\\\ x_4 \\end{pmatrix} + \\begin{pmatrix} 0 \\\\ 0 \\\\ 0 \\\\ 0 \\end{pmatrix} = \\begin{pmatrix} x_1 \\\\ x_2 \\\\ x_3 \\\\ x_4 \\end{pmatrix}\n",
    "\\end{equation}\n"
   ]
  },
  {
   "cell_type": "markdown",
   "metadata": {},
   "source": [
    "## Für alle $u_1$ , $u_2 \\in U$ gilt $u_1 + u_2 \\in U$\n",
    "\n",
    "\\begin{equation}\n",
    " \\begin{pmatrix} x_1 \\\\ x_2 \\\\ x_3 \\\\ x_4 \\end{pmatrix} + \\begin{pmatrix} y_1 \\\\ y_2 \\\\ y_3 \\\\ y_4 \\end{pmatrix} = \\begin{pmatrix} x_1 + y_1  \\\\ x_2 + y_2 \\\\ x_3 + y_4 \\\\ x_3 + y_4 \\end{pmatrix}\n",
    "\\end{equation}\n",
    "da, falls <br>\n",
    "\n",
    "\\begin{equation}\n",
    "x_1 − x_2 + x_3 = 0 \\\\ \n",
    "x_2 + 2x_3 − x_4 = 0\\\\\n",
    "y_1 − y_2 + y_3 = 0 \\\\ \n",
    "y_2 + 2y_3 − y_4 = 0\n",
    "\\end{equation}\n",
    "so ist auch <br>\n",
    "\\begin{equation}\n",
    "(x_1 + y_1) - (x_2 + y_2) + (x_3 + y_3) = 0 \\\\\n",
    "(x_2 + y_2) + (2x_3 + 2y_3) - (x_4 + y_4) = 0\n",
    "\\end{equation}\n"
   ]
  },
  {
   "cell_type": "markdown",
   "metadata": {},
   "source": [
    "## Für alle $a \\in \\mathbb{K}$ und alle $u \\in U$ gilt $au \\in U$\n",
    "\n",
    "\n",
    "sei $a$ beliebiges Element \\in \\mathbb{K} so ist\n",
    "\\begin{equation}\n",
    "a * \\begin{pmatrix} x_1 \\\\ x_2 \\\\ x_3 \\\\ x_4 \\end{pmatrix} =\n",
    "\\begin{pmatrix} a* x_1 \\\\ a * x_2 \\\\ a * x_3  \\\\ a * x_4 \\end{pmatrix}\n",
    "\\end{equation}\n",
    "<br>\n",
    "und es ist\n",
    "<br>\n",
    "\\begin{equation}\n",
    "ax_1 − ax_2 + ax_3 = 0\n",
    "\\end{equation}\n",
    "\\begin{equation} \n",
    "ax_2 + 2ax_3 − ax_4 = 0\n",
    "\\end{equation}"
   ]
  },
  {
   "cell_type": "markdown",
   "metadata": {},
   "source": [
    "# Bestimme eine Basis von $U$ und berechne die Dimension von $U$."
   ]
  },
  {
   "cell_type": "markdown",
   "metadata": {},
   "source": [
    "## Basis von $U$\n",
    "\n",
    "1. Überführung von U in Gleichungssystem\n",
    "\\begin{equation}\n",
    "v_1 − v_2 + v_3 + 0v_4= 0\\\\\n",
    "0v_1 + v_2 + 2v_3 − v_4 = 0\n",
    "\\end{equation}\n",
    "<br>\n",
    "2. Umformung nach $v_2$ und $v_4$\n",
    "\\begin{equation}\n",
    "v_2 = v_1 + v_3 \\\\\n",
    "v_4 = v_2 + 2v_3\n",
    "\\end{equation}\n",
    "<br>\n",
    "3. Ableitung der Basis\n",
    "<br>\n",
    "$B= \\left \\{ \\begin{pmatrix} v_1 \\\\ v_1 + v_3 \\\\ v_3 \\\\ v_2+2v_3 \\end{pmatrix} \\right \\}$\n",
    "<br>\n",
    "oder\n",
    "<br>\n",
    "$B= \\left \\{ v_1 *\\begin{pmatrix} 1 \\\\ 1 \\\\ 0 \\\\ 0 \\end{pmatrix} + v_3 *\\begin{pmatrix} 0 \\\\ 1 \\\\ 1 \\\\ 2 \\end{pmatrix} | v_1, v_3 \\in \\mathbb{R}^4 \\right \\}$\n",
    "<br>\n",
    "oder\n",
    "<br>\n",
    "$B= \\left \\{\\begin{pmatrix} 1 \\\\ 1 \\\\ 0 \\\\ 0 \\end{pmatrix}, \\begin{pmatrix} 0 \\\\ 1 \\\\ 1 \\\\ 2 \\end{pmatrix} \\right \\}$"
   ]
  },
  {
   "cell_type": "markdown",
   "metadata": {},
   "source": [
    "## Dimension von $U$\n",
    "\n",
    "Die Anzahl frei wählbarer Variablen innerhalb der Basis ist 2. $Dim(V) = 2$\n"
   ]
  },
  {
   "cell_type": "markdown",
   "metadata": {},
   "source": [
    "# Ergänze gefundene Basis von $U$ zu einer Basis von $\\mathbb{R}^4$"
   ]
  },
  {
   "cell_type": "markdown",
   "metadata": {},
   "source": [
    "1. Überfühung der gefundenen Basis in Koeffizientenmatrix\n",
    "\\begin{equation}\n",
    "\\begin{pmatrix} \n",
    "1 & 1 & 0 & 0 & | & 0 \\\\\n",
    "0 & 1 & 1 & 2 & | & 0 \\\\\n",
    "\\end{pmatrix}\n",
    "\\end{equation}\n",
    "<br>\n",
    "2. Ermittlung der Treppennormalform"
   ]
  },
  {
   "cell_type": "code",
   "execution_count": 31,
   "metadata": {},
   "outputs": [
    {
     "name": "stdout",
     "output_type": "stream",
     "text": [
      "[[ 1.  1.  0.  0.]\n",
      " [ 0.  1.  1.  2.]]\n",
      "---------\n",
      "('T', 1, 2, -1)\n",
      "[[ 1.  0. -1. -2.]\n",
      " [ 0.  1.  1.  2.]]\n",
      "---------\n"
     ]
    }
   ],
   "source": [
    "import numpy as np\n",
    "np.set_printoptions(precision=3)\n",
    "#define elementary operations on matrices\n",
    "\n",
    "# add value row j * var to row i (T_ij(var))\n",
    "def T(i, j, var, matrix):\n",
    "    matrix_t = np.copy(matrix)\n",
    "    matrix_t[i-1] = matrix_t[i-1] + matrix[j-1] * var\n",
    "    print(\"---------\")\n",
    "    print(\"T\", i, j, var)\n",
    "    print(matrix_t)\n",
    "    print(\"---------\")\n",
    "    return matrix_t\n",
    "\n",
    "koeff_matrix = np.array([[1, 1, 0, 0 ], [0, 1, 1, 2]], dtype='float')\n",
    "print(koeff_matrix)\n",
    "koeff_matrix = T(1,2,-1, koeff_matrix)    "
   ]
  },
  {
   "cell_type": "markdown",
   "metadata": {},
   "source": [
    "Koeffizientenmatrix in Treppennormalform:\n",
    "<br>\n",
    "\\begin{equation}\n",
    "\\begin{pmatrix} \n",
    "1 & 0 & -1 & -2\\\\\n",
    "0 & 1 & 1 & 2\\\\\n",
    "\\end{pmatrix}\n",
    "\\end{equation}\n",
    "<br>\n",
    "3. Erweiterung um Nullzeilen\n",
    "\\begin{equation}\n",
    "\\begin{pmatrix} \n",
    "1 & 0 & -1 & -2\\\\\n",
    "0 & 1 & 1 & 2\\\\\n",
    "0 & 0 & 0 & 0\\\\\n",
    "0 & 0 & 0 & 0\\\\\n",
    "\\end{pmatrix}\n",
    "\\end{equation}\n",
    "<br>\n",
    "4. Einsetzen von $-1$ als Diagonalelemente in Nullzeilen\n",
    "\\begin{equation}\n",
    "\\begin{pmatrix} \n",
    "1 & 0 & -1 & -2\\\\\n",
    "0 & 1 & 1 & 2\\\\\n",
    "0 & 0 & -1 & 0\\\\\n",
    "0 & 0 & 0 & -1\\\\\n",
    "\\end{pmatrix}\n",
    "\\end{equation}\n",
    "<br>\n",
    "5. Ableiten der zusätzlichen Vektoren\n",
    "\\begin{equation}\n",
    "\\left \\{\\begin{pmatrix} 0 \\\\ 0 \\\\ -1 \\\\ 0 \\end{pmatrix}, \\begin{pmatrix} 0 \\\\ 0 \\\\ 0 \\\\ -1 \\end{pmatrix} \\right \\}\n",
    "\\end{equation}\n",
    "<br>\n",
    "6. Basis über $\\mathbb{R}^4$\n",
    "\n",
    "\\begin{equation}\n",
    "B = \n",
    "\\left \\{\n",
    "\\begin{pmatrix} 1 \\\\ 1 \\\\ 0 \\\\ 0 \\end{pmatrix}, \n",
    "\\begin{pmatrix} 0 \\\\ 1 \\\\ 1 \\\\ 2 \\end{pmatrix}, \n",
    "\\begin{pmatrix} 0 \\\\ 0 \\\\ -1 \\\\ 0 \\end{pmatrix}, \n",
    "\\begin{pmatrix} 0 \\\\ 0 \\\\ 0 \\\\ -1 \\end{pmatrix} \n",
    "\\right \\}\n",
    "\\end{equation}"
   ]
  }
 ],
 "metadata": {
  "kernelspec": {
   "display_name": "Python 2",
   "language": "python",
   "name": "python2"
  },
  "language_info": {
   "codemirror_mode": {
    "name": "ipython",
    "version": 2
   },
   "file_extension": ".py",
   "mimetype": "text/x-python",
   "name": "python",
   "nbconvert_exporter": "python",
   "pygments_lexer": "ipython2",
   "version": "2.7.12"
  }
 },
 "nbformat": 4,
 "nbformat_minor": 2
}
