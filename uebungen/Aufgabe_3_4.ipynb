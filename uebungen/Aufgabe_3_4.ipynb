{
 "cells": [
  {
   "cell_type": "markdown",
   "metadata": {},
   "source": [
    "# Aufgabenstellung"
   ]
  },
  {
   "cell_type": "markdown",
   "metadata": {},
   "source": [
    "Sei $f: M_{22}(\\mathbb{R}) \\to \\mathbb{R}[T]$ definiert durch \n",
    "\\begin{equation}\n",
    "f \\begin{pmatrix} a & b \\\\ c & d \\end{pmatrix} = (a + b) + (a + b)T + (a + b + c + d)T^2\n",
    "\\end{equation}\n",
    "<br>\n",
    "für alle $\\begin{pmatrix} a & b \\\\ c & d \\end{pmatrix} \\in M_{22}(\\mathbb{R})$\n",
    "<br>\n",
    "<br>\n",
    "1. Beweisen Sie, dass f linear ist. <br>\n",
    "<br>\n",
    "2. Berechnen Sie eine Basis von Kern($f$) und von Bild($f$)"
   ]
  },
  {
   "cell_type": "markdown",
   "metadata": {},
   "source": [
    "## Notwendige Definitionen"
   ]
  },
  {
   "cell_type": "markdown",
   "metadata": {},
   "source": [
    "Seien $V$ und $W$ Vektorräume über Körper $\\mathbb{K}$. Eine Abbildung $f: V -> K$ heisst Vektorraumhomomorphismus oder $\\mathbb{K}$-lineare Abbildung, falls\n",
    "\n",
    "\\begin{equation}\n",
    "f(v_1 + v_2) = f(v_1) + f(v_2)\n",
    "\\end{equation}\n",
    "<br>\n",
    "für alle $v_1$ , $v_2 \\in V$,\n",
    "<br>\n",
    "<br>\n",
    "\\begin{equation}\n",
    "f(av) = af(v)\n",
    "\\end{equation}\n",
    "<br>\n",
    "für alle $a \\in \\mathbb{K}$ und für alle $v \\in V$.\n",
    "<br>\n",
    "<br>\n",
    "\n",
    "Sollte der Körper definiert sein, so sagt man statt $\\mathbb{K}$-lineare Abbildung auch lineare Abbildung."
   ]
  },
  {
   "cell_type": "markdown",
   "metadata": {},
   "source": [
    "# $f$ ist linear"
   ]
  },
  {
   "cell_type": "markdown",
   "metadata": {},
   "source": [
    "Seien $x$, $y \\in M_{22}$ mit\n",
    "$x = \\begin{pmatrix} a & b \\\\ c & d \\end{pmatrix}$\n",
    "$y = \\begin{pmatrix} e & f \\\\ g & h \\end{pmatrix}$\n",
    "<br>\n",
    "<br>\n",
    "so ist\n",
    "<br>\n",
    "\\begin{equation}\n",
    "\\begin{aligned}\n",
    "& f (x+y) = \\begin{pmatrix} a+e & b + f \\\\ c + g& d + h \\end{pmatrix}  \\\\\n",
    "& = ((a+e)+(b+f)) + ((a+e)+(b+f))T + ((a+e)+(b+f)+(c+g)+(d+h))T^2 \\\\\n",
    "& = (a+e+b+f) + (a+e+b+f)T + (a+e+b+f+c+g+d+h)T^2\n",
    "\\end{aligned}\n",
    "\\end{equation}\n",
    "<br>\n",
    "<br>\n",
    "und\n",
    "<br>\n",
    "\\begin{equation}\n",
    "\\begin{aligned}\n",
    "&f (x) + f(y) = f\\begin{pmatrix} a & b \\\\ c & d \\end{pmatrix} + f\\begin{pmatrix} e & f \\\\ g & h \\end{pmatrix} \\\\\n",
    "&= (a + b) + (a + b)T + (a + b + c + d)T^2 \\\\\n",
    "&+ (e + f) + (e + f)T + (e + f + g + h)T^2 \\\\\n",
    "&= (a+e+b+f) + (a+e+b+f)T + (a+e+b+f+c+g+d+h)T^2\\\\\n",
    "&= f (x+y)\n",
    "\\end{aligned}\n",
    "\\end{equation}\n",
    "<br>\n",
    "<br>\n",
    "Sei $k \\in \\mathbb{R}$, so gilt\n",
    "<br>\n",
    "\\begin{equation}\n",
    "\\begin{aligned}\n",
    "k * f(\\begin{pmatrix} a & b \\\\ c & d \\end{pmatrix}) = k*(a + b) + k*(a + b)T + k*(a + b + c + d)T^2\\\\\n",
    "= (ka + kb) + (ka + kb)T + (ka + kb + kc + kd)T^2\n",
    "\n",
    "\\end{equation}\n",
    "<br>\n",
    "<br>\n",
    "und nach Definition Skalarmultiplikation\n",
    "<br>\n",
    "\\begin{equation}\n",
    "f(k*\\begin{pmatrix} a & b \\\\ c & d \\end{pmatrix}) = \\begin{pmatrix} ka & kb \\\\ kc & kd \\end{pmatrix})\\\\\n",
    "= (ka + kb) + (ka + kb)T + (ka + kb + kc + kd)T^2\\\\\n",
    "= k * f(\\begin{pmatrix} a & b \\\\ c & d \\end{pmatrix})\n",
    "\\end{equation}"
   ]
  },
  {
   "cell_type": "code",
   "execution_count": null,
   "metadata": {},
   "outputs": [],
   "source": []
  }
 ],
 "metadata": {
  "kernelspec": {
   "display_name": "Python 2",
   "language": "python",
   "name": "python2"
  },
  "language_info": {
   "codemirror_mode": {
    "name": "ipython",
    "version": 2
   },
   "file_extension": ".py",
   "mimetype": "text/x-python",
   "name": "python",
   "nbconvert_exporter": "python",
   "pygments_lexer": "ipython2",
   "version": "2.7.12"
  }
 },
 "nbformat": 4,
 "nbformat_minor": 2
}
