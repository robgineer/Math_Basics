{
 "cells": [
  {
   "cell_type": "markdown",
   "metadata": {},
   "source": [
    "# Aufgabenstellung"
   ]
  },
  {
   "cell_type": "markdown",
   "metadata": {},
   "source": [
    "Sei $\\mathbb{K}$ ein Körper, und sei $n$ eine natürliche Zahl. \n",
    "<br>\n",
    "Eine Matrix $A = (a_{ij}) \\in M_{nn} (\\mathbb{K})$ heißt schiefsymmetrisch, falls $a_{ij} = −a_{ji}$ für alle $1 \\leqslant i, j \\leqslant n$.\n",
    "1. Beweisen Sie, dass die Menge\n",
    "\\begin{equation}\n",
    "S_n (\\mathbb{K}) = \\{A \\in M_{nn} (\\mathbb{K}) | \\text{A ist schiefsymmetrisch} \\}\n",
    "\\end{equation}\n",
    "ein Unterraum von M nn (K) ist.<br>\n",
    "<br>\n",
    "2. Bestimmen Sie eine Basis und die Dimension von $S_3 (\\mathbb{R})$"
   ]
  },
  {
   "cell_type": "markdown",
   "metadata": {},
   "source": [
    "## Menge $S_n (\\mathbb{K}) = \\{A \\in M_{nn} (\\mathbb{K}) | \\text{A ist schiefsymmetrisch} \\}$"
   ]
  },
  {
   "cell_type": "markdown",
   "metadata": {},
   "source": [
    "### Unterraumkriterium"
   ]
  },
  {
   "cell_type": "markdown",
   "metadata": {},
   "source": [
    "Sei $U$ eine Teilmenge eines Vektorraums $V$ über $\\mathbb{K}$. Folgende Aussagen sind äquivalent:\n",
    "1. $U$ ist ein Unterraum von $V$ .\n",
    "2. Es gelten folgende Regeln:<br>\n",
    "    2.1 Das Nullelement aus $V$ liegt in $U$, und<br>\n",
    "    2.2 für alle $u_1$ , $u_2 \\in U$ gilt $u_1 + u_2 \\in U$, und <br>\n",
    "    2.3 für alle $a \\in \\mathbb{K}$ und alle $u \\in U$ gilt $au \\in U$ ."
   ]
  },
  {
   "cell_type": "markdown",
   "metadata": {},
   "source": [
    "### Nullelement aus $S_n$ liegt in $M_{nn}(\\mathbb{K})$"
   ]
  },
  {
   "cell_type": "markdown",
   "metadata": {},
   "source": [
    "Sei $A$ beliebiges Element $\\in S_n$ und $B = \\{0\\}$ mit\n",
    "<br>\n",
    "<br>\n",
    "$A= \\begin{pmatrix} a_{11} & ... & a_{1n} \\\\ ... & ... & ... \\\\ a_{n1} & ... & a_{nn} \\end{pmatrix}$,\n",
    "$B= \\begin{pmatrix} 0 & ... & 0 \\\\ ... & ... & ... \\\\ 0 & ... & 0 \\end{pmatrix}$\n",
    "<br>\n",
    "<br>\n",
    "so ist nach Definition eines Körpers\n",
    "\\begin{equation}\n",
    "\\begin{pmatrix} a_{11} & ... & a_{1n} \\\\ ... & ... & ... \\\\ a_{n1} & ... & a_{nn} \\end{pmatrix} \n",
    "* \n",
    "\\begin{pmatrix} 0 & ... & 0 \\\\ ... & ... & ... \\\\ 0 & ... & 0 \\end{pmatrix} \n",
    "=\n",
    "\\begin{pmatrix} 0 & ... & 0 \\\\ ... & ... & ... \\\\ 0 & ... & 0 \\end{pmatrix}  \n",
    "*\n",
    "\\begin{pmatrix} a_{11} & ... & a_{1n} \\\\ ... & ... & ... \\\\ a_{n1} & ... & a_{nn} \\end{pmatrix}\n",
    "= \\begin{pmatrix} 0 & ... & 0 \\\\ ... & ... & ... \\\\ 0 & ... & 0 \\end{pmatrix}\n",
    "\\end{equation}\n",
    "<br>\n",
    "<br> \n",
    "und\n",
    "so ist\n",
    "\\begin{equation}\n",
    "\\begin{pmatrix} a_{11} & ... & a_{1n} \\\\ ... & ... & ... \\\\ a_{n1} & ... & a_{nn} \\end{pmatrix}  + \\begin{pmatrix} 0 & ... & 0 \\\\ ... & ... & ... \\\\ 0 & ... & 0 \\end{pmatrix} \n",
    "=\n",
    "\\begin{pmatrix} 0 & ... & 0 \\\\ ... & ... & ... \\\\ 0 & ... & 0 \\end{pmatrix}  \n",
    "+\n",
    "\\begin{pmatrix} a_{11} & ... & a_{1n} \\\\ ... & ... & ... \\\\ a_{n1} & ... & a_{nn} \\end{pmatrix}\n",
    "= \n",
    "\\begin{pmatrix} a_{11} & ... & a_{1n} \\\\ ... & ... & ... \\\\ a_{n1} & ... & a_{nn} \\end{pmatrix}\n",
    "\\end{equation}"
   ]
  },
  {
   "cell_type": "markdown",
   "metadata": {},
   "source": [
    "## Für alle $u_1$ , $u_2 \\in U$ gilt $u_1 + u_2 \\in S_n$"
   ]
  },
  {
   "cell_type": "markdown",
   "metadata": {},
   "source": [
    "Seien $A$, $B$ beliebige $\\in S_n$ mit\n",
    "<br>\n",
    "<br>\n",
    "$A= \\begin{pmatrix} a_{11} & ... & a_{1n} \\\\ ... & ... & ... \\\\ a_{n1} & ... & a_{nn} \\end{pmatrix}$,\n",
    "$B= \\begin{pmatrix} b_{11} & ... & b_{1n} \\\\ ... & ... & ... \\\\ b_{n1} & ... & b_{nn} \\end{pmatrix}$,\n",
    "<br>\n",
    "<br>\n",
    "so ist nach Definition der Matrizenaddition\n",
    "<br>\n",
    "\\begin{equation}\n",
    "\\begin{pmatrix} a_{11} & ... & a_{1n} \\\\ ... & ... & ... \\\\ a_{n1} & ... & a_{nn} \\end{pmatrix} \n",
    "+\n",
    "\\begin{pmatrix} b_{11} & ... & b_{1n} \\\\ ... & ... & ... \\\\ b_{n1} & ... & b_{nn} \\end{pmatrix} \n",
    "=\n",
    "\\begin{pmatrix} a_{11} +b_{11} & ... & a_{1n} + b_{1n} \\\\ ... & ... & ... \\\\ a_{n1} + b_{n1} & ... & a_{nn} + b_{nn} \\end{pmatrix} \\in S_n\n",
    "\\end{equation}\n",
    "<br>\n",
    "<br>"
   ]
  },
  {
   "cell_type": "markdown",
   "metadata": {},
   "source": [
    "## Für alle $a \\in \\mathbb{K}$ und alle $u \\in U$ gilt $au \\in S_n$"
   ]
  },
  {
   "cell_type": "markdown",
   "metadata": {},
   "source": [
    "Sei $a$ beliebiges Element in $\\mathbb{K}$ und $B$ beliebiges $\\in S_n$ so ist nach Definition der Skalarmultiplikation\n",
    "<br>\n",
    "<br>\n",
    "\\begin{equation}\n",
    "a * \\begin{pmatrix} b_{11} & ... & b_{1n} \\\\ ... & ... & ... \\\\ b_{n1} & ... & b_{nn} \\end{pmatrix} = \\begin{pmatrix} ab_{11} & ... & ab_{1n} \\\\ ... & ... & ... \\\\ ab_{n1} & ... & ab_{nn} \\end{pmatrix} \\in S_n\n",
    "\\end{equation}\n"
   ]
  },
  {
   "cell_type": "markdown",
   "metadata": {},
   "source": [
    "# Bestimme eine Basis und die Dimension von $S_3 (\\mathbb{R})$"
   ]
  },
  {
   "cell_type": "markdown",
   "metadata": {},
   "source": [
    "Sei $A$ beliebiges $\\in S_n$ so ist dessen Form\n",
    "<br>\n",
    "<br>\n",
    "$A= \\begin{pmatrix} a_{0} & -a_{1} & -a_{2} \\\\ a_{1} & a_{0} & -a_{3} \\\\ a_{2} & a_{3} & a_{0} \\end{pmatrix}$ \n",
    "<br>\n",
    "<br>\n",
    "und kann mit bekannten Koeffizienten folgendermassen beschrieben werde\n",
    "<br>\n",
    "<br>\n",
    "\\begin{equation}\n",
    "\\begin{pmatrix} a_{0} & -a_{1} & -a_{2} \\\\ a_{1} & a_{0} & -a_{3} \\\\ a_{2} & a_{3} & a_{0} \\end{pmatrix} \n",
    "= \n",
    "a_1 * \\begin{pmatrix} 0 & -1 & 0 \\\\ 1 & 0 & 0 \\\\ 0 & 0 & 0 \\end{pmatrix}\n",
    "+\n",
    "a_2 * \\begin{pmatrix} 0 & 0 & -1 \\\\ 0 & 0 & 0 \\\\ 1 & 0 & 0 \\end{pmatrix}\n",
    "+\n",
    "a_3 * \\begin{pmatrix} 0 & 0 & 0 \\\\ 0 & 0 & -1 \\\\ 0 & 1 & 0 \\end{pmatrix}\n",
    "\\end{equation}\n",
    "Die Basis von $S_3$ ist somit\n",
    "\\begin{equation}\n",
    "B = \n",
    "\\left \\{\n",
    "\\begin{pmatrix} 0 & -1 & 0 \\\\ 1 & 0 & 0 \\\\ 0 & 0 & 0 \\end{pmatrix}, \n",
    "\\begin{pmatrix} 0 & 0 & -1 \\\\ 0 & 0 & 0 \\\\ 1 & 0 & 0 \\end{pmatrix}, \n",
    "\\begin{pmatrix} 0 & 0 & 0 \\\\ 0 & 0 & -1 \\\\ 0 & 1 & 0 \\end{pmatrix}\n",
    "\\right \\}\n",
    "\\end{equation}\n",
    "mit $Dim(S_3) = 3$"
   ]
  }
 ],
 "metadata": {
  "kernelspec": {
   "display_name": "Python 2",
   "language": "python",
   "name": "python2"
  },
  "language_info": {
   "codemirror_mode": {
    "name": "ipython",
    "version": 2
   },
   "file_extension": ".py",
   "mimetype": "text/x-python",
   "name": "python",
   "nbconvert_exporter": "python",
   "pygments_lexer": "ipython2",
   "version": "2.7.12"
  }
 },
 "nbformat": 4,
 "nbformat_minor": 2
}
